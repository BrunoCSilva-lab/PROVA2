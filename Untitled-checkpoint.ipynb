{
 "cells": [
  {
   "cell_type": "code",
   "execution_count": 5,
   "id": "afcf8929-cc0f-4c9e-a1b3-f69e41b20e5d",
   "metadata": {},
   "outputs": [
    {
     "name": "stdout",
     "output_type": "stream",
     "text": [
      "Lista original: [29, 10, 14, 37, 13]\n",
      "Lista ordenada: [10, 13, 14, 29, 37]\n",
      "Maior elemento: 37\n"
     ]
    }
   ],
   "source": [
    "def selection_sort(arr):\n",
    "    for i in range(len(arr)):\n",
    "        min_idx = i\n",
    "        for j in range(i + 1, len(arr)):\n",
    "            if arr[j] < arr[min_idx]:\n",
    "                min_idx = j\n",
    "        arr[i], arr[min_idx] = arr[min_idx], arr[i]\n",
    "    return arr\n",
    "    \n",
    "def find_max(lista_ordenada):\n",
    "    return lista_ordenada[-1]\n",
    "\n",
    "lista = [29, 10, 14, 37, 13]\n",
    "print(\"Lista original:\", lista)\n",
    "\n",
    "sorted_list = selection_sort(lista)\n",
    "print(\"Lista ordenada:\", sorted_list)\n",
    "\n",
    "maior_elemento = find_max(sorted_list)\n",
    "print(\"Maior elemento:\", maior_elemento)"
   ]
  },
  {
   "cell_type": "code",
   "execution_count": null,
   "id": "995698f8-d9f8-4abf-8b7d-495623cddc4a",
   "metadata": {},
   "outputs": [],
   "source": []
  }
 ],
 "metadata": {
  "kernelspec": {
   "display_name": "Python [conda env:base] *",
   "language": "python",
   "name": "conda-base-py"
  },
  "language_info": {
   "codemirror_mode": {
    "name": "ipython",
    "version": 3
   },
   "file_extension": ".py",
   "mimetype": "text/x-python",
   "name": "python",
   "nbconvert_exporter": "python",
   "pygments_lexer": "ipython3",
   "version": "3.12.7"
  }
 },
 "nbformat": 4,
 "nbformat_minor": 5
}
